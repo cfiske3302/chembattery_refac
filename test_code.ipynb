{
 "cells": [
  {
   "cell_type": "code",
   "execution_count": 72,
   "id": "ef187056",
   "metadata": {},
   "outputs": [],
   "source": [
    "from old_code.dataset import *\n",
    "import tensorflow as tf\n",
    "from MLP import *"
   ]
  },
  {
   "cell_type": "code",
   "execution_count": 73,
   "id": "6f9e1926",
   "metadata": {},
   "outputs": [
    {
     "name": "stdout",
     "output_type": "stream",
     "text": [
      "The autoreload extension is already loaded. To reload it, use:\n",
      "  %reload_ext autoreload\n"
     ]
    }
   ],
   "source": [
    "%load_ext autoreload\n",
    "%autoreload 2"
   ]
  },
  {
   "cell_type": "code",
   "execution_count": 74,
   "id": "train_linear_model",
   "metadata": {},
   "outputs": [],
   "source": [
    "# Test training LinearModel on 2024-08-21 data\n",
    "import pickle\n",
    "import os\n",
    "import numpy as np\n",
    "from old_code.dataset import get_scaled_split_data\n",
    "from MLP import MLP\n",
    "from Model import Model\n",
    "from Model import EnsembleModel\n",
    "import pandas as pd\n",
    "from Dataset import Dataset\n",
    "from omegaconf import OmegaConf\n",
    "\n",
    "cfg1 = OmegaConf.load(\"/usr/project/chembattery/chembattery_refac/configs/train_lfp_reproduce3.yaml\")\n",
    "cfg2 = OmegaConf.load(\"/usr/project/chembattery/chembattery_refac/configs/train_lfp_reproduce3_finetune.yaml\")\n",
    "cfgr = OmegaConf.load(\"/usr/project/chembattery/chembattery_refac/configs/train_lfp_reproduce3.yaml\")"
   ]
  },
  {
   "cell_type": "code",
   "execution_count": 96,
   "id": "6b323d36",
   "metadata": {},
   "outputs": [],
   "source": [
    "#IMPORTANT: code for editing config files. Do not delete\n",
    "src_dir = \"./configs/fine_tune_tests\"\n",
    "dest_dir = \"./configs/fine_tune_tests_ensemble\"\n",
    "os.makedirs(dest_dir, exist_ok=True)\n",
    "for f in os.listdir(src_dir):\n",
    "    if \"yaml\" in f:\n",
    "        src = os.path.join(src_dir, f)\n",
    "        dest = os.path.join(dest_dir, f)\n",
    "        config = OmegaConf.load(src)\n",
    "        config.model.num_models = 5\n",
    "        config.trainer.save_dir = \"./runs/finetune_tests_ensemble\"\n",
    "        ckpt = config.trainer.get(\"ckpt_dir\", None)\n",
    "        if ckpt:\n",
    "            new_ckpt = ckpt.split(\"/\")\n",
    "            new_ckpt = new_ckpt[:-2] + [\"finetune_test_ensemble\"] + [new_ckpt[-1]]\n",
    "            new_ckpt = os.path.join(*new_ckpt)\n",
    "            config.trainer.ckpt_dir = new_ckpt\n",
    "            print(new_ckpt)\n",
    "        config.trainer.epochs /= 5\n",
    "        OmegaConf.save(config, dest)"
   ]
  },
  {
   "cell_type": "code",
   "execution_count": 98,
   "id": "ee52fcc8",
   "metadata": {},
   "outputs": [],
   "source": [
    "src_dir = \"./configs/fine_tune_tests_ensemble\"\n",
    "for f in os.listdir(src_dir):\n",
    "    if \"yaml\" in f and \"finetune\" in f:\n",
    "        src = os.path.join(src_dir, f)\n",
    "        dest = os.path.join(src_dir, f)\n",
    "        config = OmegaConf.load(src)\n",
    "        config.trainer.learning_rate = 0.0003\n",
    "        OmegaConf.save(config, dest)"
   ]
  },
  {
   "cell_type": "code",
   "execution_count": 85,
   "id": "7f63b00f",
   "metadata": {},
   "outputs": [
    {
     "data": {
      "text/plain": [
       "'he>lo'"
      ]
     },
     "execution_count": 85,
     "metadata": {},
     "output_type": "execute_result"
    }
   ],
   "source": [
    "\">\".join([\"he\", \"lo\"])"
   ]
  },
  {
   "cell_type": "code",
   "execution_count": 99,
   "id": "16476093",
   "metadata": {},
   "outputs": [
    {
     "name": "stdout",
     "output_type": "stream",
     "text": [
      "[reprros: ] []\n",
      "splitting data\n"
     ]
    }
   ],
   "source": [
    "\n",
    "\n",
    "data_path = os.path.join(cfg.data.data_dir, cfg.data.date_str)\n",
    "scale_path = os.path.join(cfg.data.data_dir, cfg.data.get(\"scaler_date\", '⚖️'))\n",
    "features = cfg.data.get(\"features\", None)\n",
    "dataset = Dataset(data_path, scale_path, features)\n",
    "\n",
    "trim_to = cfg.data.get(\"dataset_max\", None)\n",
    "if trim_to is not None:\n",
    "    dataset.trim(int(trim_to))\n",
    "\n",
    "prepros_steps = cfg.data.get(\"preprocessing\", [])\n",
    "print(\"[reprros: ]\", prepros_steps)\n",
    "\n",
    "print(\"splitting data\")\n",
    "split_on = cfg.data.get(\"split_on\", \"cell_num\")\n",
    "test_split = [str(id) for id in cfg.data.test_split.split(',')]\n",
    "X_train, X_test, y_train, y_test, scaler = dataset.get_scaled_split(test_split, split_on)"
   ]
  },
  {
   "cell_type": "code",
   "execution_count": 104,
   "id": "e3a24ddb",
   "metadata": {},
   "outputs": [
    {
     "data": {
      "text/plain": [
       "cell_num\n",
       "1        0.33\n",
       "2        0.33\n",
       "3        0.33\n",
       "4        0.33\n",
       "5         0.5\n",
       "6         0.5\n",
       "7         0.5\n",
       "8         0.5\n",
       "9         0.5\n",
       "10        0.8\n",
       "11        0.8\n",
       "12        0.8\n",
       "13        0.8\n",
       "14        0.8\n",
       "15        0.8\n",
       "16        0.8\n",
       "17        0.8\n",
       "18        0.8\n",
       "19        0.8\n",
       "20        0.8\n",
       "21        0.8\n",
       "22        0.8\n",
       "23        0.8\n",
       "24        0.8\n",
       "25        0.8\n",
       "26        0.8\n",
       "27        0.8\n",
       "28        0.8\n",
       "29          1\n",
       "30          1\n",
       "31          1\n",
       "32          1\n",
       "33          1\n",
       "34          1\n",
       "35          1\n",
       "36          1\n",
       "37          1\n",
       "38          1\n",
       "39          1\n",
       "40          1\n",
       "41          1\n",
       "42          1\n",
       "43          1\n",
       "44          1\n",
       "45          1\n",
       "46          1\n",
       "47          1\n",
       "48    stepped\n",
       "49    stepped\n",
       "50    stepped\n",
       "51    stepped\n",
       "52    stepped\n",
       "53    stepped\n",
       "54    stepped\n",
       "55    stepped\n",
       "Name: C-rate, dtype: object"
      ]
     },
     "execution_count": 104,
     "metadata": {},
     "output_type": "execute_result"
    }
   ],
   "source": [
    "dataset.masterList"
   ]
  },
  {
   "cell_type": "code",
   "execution_count": 93,
   "id": "0703ad96",
   "metadata": {},
   "outputs": [
    {
     "data": {
      "text/plain": [
       "['/usr/project/chembattery/chembattery_refac/configs/crate_tests/train_crate_test_03.yaml\\n',\n",
       " '/usr/project/chembattery/chembattery_refac/configs/crate_tests/train_crate_test_05.yaml\\n',\n",
       " '/usr/project/chembattery/chembattery_refac/configs/crate_tests/train_crate_test_step.yaml\\n',\n",
       " '/usr/project/chembattery/chembattery_refac/configs/crate_tests/train_crate_test_step_pinn.yaml\\n',\n",
       " '/usr/project/chembattery/chembattery_refac/configs/crate_tests/train_crate_test_05_pinn.yaml\\n']"
      ]
     },
     "execution_count": 93,
     "metadata": {},
     "output_type": "execute_result"
    }
   ],
   "source": [
    "with open(\"./configs/crate_tests/paths_to_run_0.txt\", 'r') as f:\n",
    "    c = f.readlines()\n",
    "c"
   ]
  },
  {
   "cell_type": "code",
   "execution_count": 90,
   "id": "5da9530f",
   "metadata": {},
   "outputs": [
    {
     "data": {
      "text/plain": [
       "9785838"
      ]
     },
     "execution_count": 90,
     "metadata": {},
     "output_type": "execute_result"
    }
   ],
   "source": [
    "len(dataset.xCC)"
   ]
  },
  {
   "cell_type": "code",
   "execution_count": 76,
   "id": "9cf9938c",
   "metadata": {},
   "outputs": [
    {
     "data": {
      "text/plain": [
       "cell_num\n",
       "1        0.33\n",
       "2        0.33\n",
       "3        0.33\n",
       "4        0.33\n",
       "5         0.5\n",
       "6         0.5\n",
       "7         0.5\n",
       "8         0.5\n",
       "9         0.5\n",
       "10        0.8\n",
       "11        0.8\n",
       "12        0.8\n",
       "13        0.8\n",
       "14        0.8\n",
       "15        0.8\n",
       "16        0.8\n",
       "17        0.8\n",
       "18        0.8\n",
       "19        0.8\n",
       "20        0.8\n",
       "21        0.8\n",
       "22        0.8\n",
       "23        0.8\n",
       "24        0.8\n",
       "25        0.8\n",
       "26        0.8\n",
       "27        0.8\n",
       "28        0.8\n",
       "29          1\n",
       "30          1\n",
       "31          1\n",
       "32          1\n",
       "33          1\n",
       "34          1\n",
       "35          1\n",
       "36          1\n",
       "37          1\n",
       "38          1\n",
       "39          1\n",
       "40          1\n",
       "41          1\n",
       "42          1\n",
       "43          1\n",
       "44          1\n",
       "45          1\n",
       "46          1\n",
       "47          1\n",
       "48    stepped\n",
       "49    stepped\n",
       "50    stepped\n",
       "51    stepped\n",
       "52    stepped\n",
       "53    stepped\n",
       "54    stepped\n",
       "55    stepped\n",
       "Name: C-rate, dtype: object"
      ]
     },
     "execution_count": 76,
     "metadata": {},
     "output_type": "execute_result"
    }
   ],
   "source": [
    "dataset.masterList"
   ]
  },
  {
   "cell_type": "code",
   "execution_count": 63,
   "id": "82f15869",
   "metadata": {},
   "outputs": [
    {
     "name": "stdout",
     "output_type": "stream",
     "text": [
      "70\n",
      "WARNING:tensorflow:No training configuration found in save file, so the model was *not* compiled. Compile it manually.\n",
      "2\n"
     ]
    }
   ],
   "source": [
    "m = MLP(cfgr.model, cfgr.trainer)\n",
    "print(m.trainer_config.epochs)\n",
    "m.load_model_state(\"/usr/project/chembattery/chembattery_refac/runs/train_pinn_1e6/model\")\n",
    "print(m.trainer_config.epochs)"
   ]
  },
  {
   "cell_type": "code",
   "execution_count": 64,
   "id": "fdb83d4d",
   "metadata": {},
   "outputs": [
    {
     "data": {
      "text/plain": [
       "[PhysicalDevice(name='/physical_device:GPU:0', device_type='GPU'),\n",
       " PhysicalDevice(name='/physical_device:GPU:1', device_type='GPU'),\n",
       " PhysicalDevice(name='/physical_device:GPU:2', device_type='GPU')]"
      ]
     },
     "execution_count": 64,
     "metadata": {},
     "output_type": "execute_result"
    }
   ],
   "source": [
    "tf.config.list_physical_devices('GPU')"
   ]
  },
  {
   "cell_type": "code",
   "execution_count": 68,
   "id": "0ad97e84",
   "metadata": {},
   "outputs": [
    {
     "data": {
      "text/plain": [
       "['0', '1', '2']"
      ]
     },
     "execution_count": 68,
     "metadata": {},
     "output_type": "execute_result"
    }
   ],
   "source": [
    "[gpu.name.split(':')[-1] for gpu in tf.config.list_physical_devices('GPU')]"
   ]
  },
  {
   "cell_type": "code",
   "execution_count": 65,
   "id": "3ca2ad50",
   "metadata": {},
   "outputs": [
    {
     "data": {
      "text/plain": [
       "[23130, 23825, 23137]"
      ]
     },
     "execution_count": 65,
     "metadata": {},
     "output_type": "execute_result"
    }
   ],
   "source": [
    "from gpu_utils import *\n",
    "get_gpu_free_mem()"
   ]
  },
  {
   "cell_type": "code",
   "execution_count": 71,
   "id": "7fef02cd",
   "metadata": {},
   "outputs": [
    {
     "name": "stdout",
     "output_type": "stream",
     "text": [
      "(2, 3)\n",
      "(1, 2)\n",
      "(0, 1)\n"
     ]
    }
   ],
   "source": [
    "for i in reversed(list(enumerate([1, 2, 3]))):\n",
    "    print(i)"
   ]
  },
  {
   "cell_type": "code",
   "execution_count": 56,
   "id": "12158016",
   "metadata": {},
   "outputs": [
    {
     "name": "stdout",
     "output_type": "stream",
     "text": [
      "0\n",
      "[0.0, 0.0]\n",
      "1\n",
      "[0.0, 0.0]\n",
      "2\n",
      "[0.0003064163, 0.00026588142]\n",
      "3\n",
      "[0.0010439306, 0.00032314658]\n"
     ]
    }
   ],
   "source": [
    "i = 4\n",
    "m_re = MLP(cfg1.model, cfg1.trainer)\n",
    "m_fi = MLP(cfg2.model, cfg2.trainer)\n",
    "\n",
    "m_re.load_model_state(f'/usr/project/chembattery/chembattery_refac/runs/reproduced_results_3/model/models/model_{i}')\n",
    "m_fi.load_model_state(f'/usr/project/chembattery/chembattery_refac/runs/reproduced_results_3_finetune/model/models/model_{i}')\n",
    "\n",
    "for i, (l_re, l_fi )in enumerate(zip(m_re.model.layers, m_fi.model.layers)):\n",
    "    print(i)\n",
    "    print([np.max(np.abs(l_re.weights[j]-l_fi.weights[j])) for j in range(len(l_re.weights))])\n"
   ]
  },
  {
   "cell_type": "code",
   "execution_count": 57,
   "id": "5c539181",
   "metadata": {},
   "outputs": [
    {
     "data": {
      "text/plain": [
       "70"
      ]
     },
     "execution_count": 57,
     "metadata": {},
     "output_type": "execute_result"
    }
   ],
   "source": [
    "m_re.trainer_config.epochs"
   ]
  },
  {
   "cell_type": "code",
   "execution_count": 60,
   "id": "5cde3487",
   "metadata": {},
   "outputs": [
    {
     "name": "stderr",
     "output_type": "stream",
     "text": [
      "[autoreload of Model failed: Traceback (most recent call last):\n",
      "  File \"/usr/local/lib/python3.8/dist-packages/IPython/extensions/autoreload.py\", line 273, in check\n",
      "    superreload(m, reload, self.old_objects)\n",
      "  File \"/usr/local/lib/python3.8/dist-packages/IPython/extensions/autoreload.py\", line 471, in superreload\n",
      "    module = reload(module)\n",
      "  File \"/usr/lib/python3.8/importlib/__init__.py\", line 169, in reload\n",
      "    _bootstrap._exec(spec, module)\n",
      "  File \"<frozen importlib._bootstrap>\", line 604, in _exec\n",
      "  File \"<frozen importlib._bootstrap_external>\", line 848, in exec_module\n",
      "  File \"<frozen importlib._bootstrap>\", line 219, in _call_with_frames_removed\n",
      "  File \"/usr/project/chembattery/chembattery_refac/Model.py\", line 9, in <module>\n",
      "    from constants import *\n",
      "  File \"/usr/project/chembattery/chembattery_refac/constants.py\", line 13, in <module>\n",
      "    \"MLP\": MLP\n",
      "NameError: name 'MLP' is not defined\n",
      "]\n"
     ]
    },
    {
     "name": "stdout",
     "output_type": "stream",
     "text": [
      "Unexpected exception formatting exception. Falling back to standard exception\n"
     ]
    },
    {
     "name": "stderr",
     "output_type": "stream",
     "text": [
      "Traceback (most recent call last):\n",
      "  File \"/usr/local/lib/python3.8/dist-packages/IPython/core/interactiveshell.py\", line 3508, in run_code\n",
      "    exec(code_obj, self.user_global_ns, self.user_ns)\n",
      "  File \"/tmp/ipykernel_1649146/3639377093.py\", line 1, in <module>\n",
      "    m_re.load_model_state(\"./runs/crate_control/model\")\n",
      "  File \"/usr/project/chembattery/chembattery_refac/Model.py\", line 131, in load_model_state\n",
      "    self.optimizer.apply_gradients(\n",
      "  File \"/usr/local/lib/python3.8/dist-packages/keras/src/optimizers/legacy/optimizer_v2.py\", line 1323, in set_weights\n",
      "    raise ValueError(\n",
      "ValueError: You called `set_weights(weights)` on optimizer SGD with a  weight list of length 17, but the optimizer was expecting 1 weights. Provided weights: [31835, array([[ 1.42179624e-06,  8.36803974e-06, ...\n",
      "\n",
      "During handling of the above exception, another exception occurred:\n",
      "\n",
      "Traceback (most recent call last):\n",
      "  File \"/usr/local/lib/python3.8/dist-packages/IPython/core/interactiveshell.py\", line 2105, in showtraceback\n",
      "    stb = self.InteractiveTB.structured_traceback(\n",
      "  File \"/usr/local/lib/python3.8/dist-packages/IPython/core/ultratb.py\", line 1396, in structured_traceback\n",
      "    return FormattedTB.structured_traceback(\n",
      "  File \"/usr/local/lib/python3.8/dist-packages/IPython/core/ultratb.py\", line 1287, in structured_traceback\n",
      "    return VerboseTB.structured_traceback(\n",
      "  File \"/usr/local/lib/python3.8/dist-packages/IPython/core/ultratb.py\", line 1140, in structured_traceback\n",
      "    formatted_exception = self.format_exception_as_a_whole(etype, evalue, etb, number_of_lines_of_context,\n",
      "  File \"/usr/local/lib/python3.8/dist-packages/IPython/core/ultratb.py\", line 1055, in format_exception_as_a_whole\n",
      "    frames.append(self.format_record(record))\n",
      "  File \"/usr/local/lib/python3.8/dist-packages/IPython/core/ultratb.py\", line 955, in format_record\n",
      "    frame_info.lines, Colors, self.has_colors, lvals\n",
      "  File \"/usr/local/lib/python3.8/dist-packages/IPython/core/ultratb.py\", line 778, in lines\n",
      "    return self._sd.lines\n",
      "  File \"/usr/local/lib/python3.8/dist-packages/stack_data/utils.py\", line 145, in cached_property_wrapper\n",
      "    value = obj.__dict__[self.func.__name__] = self.func(obj)\n",
      "  File \"/usr/local/lib/python3.8/dist-packages/stack_data/core.py\", line 734, in lines\n",
      "    pieces = self.included_pieces\n",
      "  File \"/usr/local/lib/python3.8/dist-packages/stack_data/utils.py\", line 145, in cached_property_wrapper\n",
      "    value = obj.__dict__[self.func.__name__] = self.func(obj)\n",
      "  File \"/usr/local/lib/python3.8/dist-packages/stack_data/core.py\", line 681, in included_pieces\n",
      "    pos = scope_pieces.index(self.executing_piece)\n",
      "  File \"/usr/local/lib/python3.8/dist-packages/stack_data/utils.py\", line 145, in cached_property_wrapper\n",
      "    value = obj.__dict__[self.func.__name__] = self.func(obj)\n",
      "  File \"/usr/local/lib/python3.8/dist-packages/stack_data/core.py\", line 660, in executing_piece\n",
      "    return only(\n",
      "  File \"/usr/local/lib/python3.8/dist-packages/executing/executing.py\", line 116, in only\n",
      "    raise NotOneValueFound('Expected one value, found 0')\n",
      "executing.executing.NotOneValueFound: Expected one value, found 0\n"
     ]
    }
   ],
   "source": [
    "m_re.load_model_state(\"./runs/crate_control/model\")"
   ]
  },
  {
   "cell_type": "code",
   "execution_count": 115,
   "id": "6c3ba3b0",
   "metadata": {},
   "outputs": [],
   "source": [
    "for value in X_train.index.get_level_values(\"cell_num\").unique():\n",
    "    if value in test_split:\n",
    "        print(value)"
   ]
  },
  {
   "cell_type": "code",
   "execution_count": 111,
   "id": "c3ce2c85",
   "metadata": {},
   "outputs": [
    {
     "data": {
      "text/html": [
       "<div>\n",
       "<style scoped>\n",
       "    .dataframe tbody tr th:only-of-type {\n",
       "        vertical-align: middle;\n",
       "    }\n",
       "\n",
       "    .dataframe tbody tr th {\n",
       "        vertical-align: top;\n",
       "    }\n",
       "\n",
       "    .dataframe thead th {\n",
       "        text-align: right;\n",
       "    }\n",
       "</style>\n",
       "<table border=\"1\" class=\"dataframe\">\n",
       "  <thead>\n",
       "    <tr style=\"text-align: right;\">\n",
       "      <th></th>\n",
       "      <th></th>\n",
       "      <th>Energy</th>\n",
       "      <th>Capacity</th>\n",
       "      <th>Voltage-8</th>\n",
       "      <th>Energy-8</th>\n",
       "      <th>Power-8</th>\n",
       "    </tr>\n",
       "    <tr>\n",
       "      <th>cell_num</th>\n",
       "      <th>cycle</th>\n",
       "      <th></th>\n",
       "      <th></th>\n",
       "      <th></th>\n",
       "      <th></th>\n",
       "      <th></th>\n",
       "    </tr>\n",
       "  </thead>\n",
       "  <tbody>\n",
       "    <tr>\n",
       "      <th rowspan=\"5\" valign=\"top\">1</th>\n",
       "      <th>2</th>\n",
       "      <td>17.887097</td>\n",
       "      <td>11.096774</td>\n",
       "      <td>3.301269</td>\n",
       "      <td>17.758065</td>\n",
       "      <td>0.003499</td>\n",
       "    </tr>\n",
       "    <tr>\n",
       "      <th>2</th>\n",
       "      <td>17.903226</td>\n",
       "      <td>11.096774</td>\n",
       "      <td>3.301331</td>\n",
       "      <td>17.774194</td>\n",
       "      <td>0.003499</td>\n",
       "    </tr>\n",
       "    <tr>\n",
       "      <th>2</th>\n",
       "      <td>17.919355</td>\n",
       "      <td>11.096774</td>\n",
       "      <td>3.301406</td>\n",
       "      <td>17.790323</td>\n",
       "      <td>0.003499</td>\n",
       "    </tr>\n",
       "    <tr>\n",
       "      <th>2</th>\n",
       "      <td>17.935484</td>\n",
       "      <td>11.129032</td>\n",
       "      <td>3.301425</td>\n",
       "      <td>17.806452</td>\n",
       "      <td>0.003500</td>\n",
       "    </tr>\n",
       "    <tr>\n",
       "      <th>2</th>\n",
       "      <td>17.951613</td>\n",
       "      <td>11.129032</td>\n",
       "      <td>3.301505</td>\n",
       "      <td>17.822581</td>\n",
       "      <td>0.003500</td>\n",
       "    </tr>\n",
       "    <tr>\n",
       "      <th>...</th>\n",
       "      <th>...</th>\n",
       "      <td>...</td>\n",
       "      <td>...</td>\n",
       "      <td>...</td>\n",
       "      <td>...</td>\n",
       "      <td>...</td>\n",
       "    </tr>\n",
       "    <tr>\n",
       "      <th rowspan=\"5\" valign=\"top\">55</th>\n",
       "      <th>21</th>\n",
       "      <td>128.387097</td>\n",
       "      <td>74.129032</td>\n",
       "      <td>3.596687</td>\n",
       "      <td>128.177419</td>\n",
       "      <td>0.005719</td>\n",
       "    </tr>\n",
       "    <tr>\n",
       "      <th>21</th>\n",
       "      <td>128.419355</td>\n",
       "      <td>74.161290</td>\n",
       "      <td>3.596916</td>\n",
       "      <td>128.209677</td>\n",
       "      <td>0.005719</td>\n",
       "    </tr>\n",
       "    <tr>\n",
       "      <th>21</th>\n",
       "      <td>128.435484</td>\n",
       "      <td>74.161290</td>\n",
       "      <td>3.597026</td>\n",
       "      <td>128.241935</td>\n",
       "      <td>0.005719</td>\n",
       "    </tr>\n",
       "    <tr>\n",
       "      <th>21</th>\n",
       "      <td>128.467742</td>\n",
       "      <td>74.161290</td>\n",
       "      <td>3.597262</td>\n",
       "      <td>128.258065</td>\n",
       "      <td>0.005720</td>\n",
       "    </tr>\n",
       "    <tr>\n",
       "      <th>21</th>\n",
       "      <td>128.483871</td>\n",
       "      <td>74.193548</td>\n",
       "      <td>3.597437</td>\n",
       "      <td>128.290323</td>\n",
       "      <td>0.005720</td>\n",
       "    </tr>\n",
       "  </tbody>\n",
       "</table>\n",
       "<p>9785838 rows × 5 columns</p>\n",
       "</div>"
      ],
      "text/plain": [
       "                    Energy   Capacity  Voltage-8    Energy-8   Power-8\n",
       "cell_num cycle                                                        \n",
       "1        2       17.887097  11.096774   3.301269   17.758065  0.003499\n",
       "         2       17.903226  11.096774   3.301331   17.774194  0.003499\n",
       "         2       17.919355  11.096774   3.301406   17.790323  0.003499\n",
       "         2       17.935484  11.129032   3.301425   17.806452  0.003500\n",
       "         2       17.951613  11.129032   3.301505   17.822581  0.003500\n",
       "...                    ...        ...        ...         ...       ...\n",
       "55       21     128.387097  74.129032   3.596687  128.177419  0.005719\n",
       "         21     128.419355  74.161290   3.596916  128.209677  0.005719\n",
       "         21     128.435484  74.161290   3.597026  128.241935  0.005719\n",
       "         21     128.467742  74.161290   3.597262  128.258065  0.005720\n",
       "         21     128.483871  74.193548   3.597437  128.290323  0.005720\n",
       "\n",
       "[9785838 rows x 5 columns]"
      ]
     },
     "execution_count": 111,
     "metadata": {},
     "output_type": "execute_result"
    }
   ],
   "source": [
    "dataset.xCC"
   ]
  },
  {
   "cell_type": "code",
   "execution_count": 116,
   "id": "f174fd10",
   "metadata": {},
   "outputs": [
    {
     "name": "stderr",
     "output_type": "stream",
     "text": [
      "2025-07-02 20:16:57.223218: I tensorflow/core/common_runtime/gpu/gpu_device.cc:1639] Created device /job:localhost/replica:0/task:0/device:GPU:0 with 692 MB memory:  -> device: 0, name: NVIDIA GeForce RTX 3090, pci bus id: 0000:1a:00.0, compute capability: 8.6\n",
      "2025-07-02 20:16:57.223763: I tensorflow/core/common_runtime/gpu/gpu_device.cc:1639] Created device /job:localhost/replica:0/task:0/device:GPU:1 with 22289 MB memory:  -> device: 1, name: NVIDIA GeForce RTX 3090, pci bus id: 0000:67:00.0, compute capability: 8.6\n",
      "2025-07-02 20:16:57.224166: I tensorflow/core/common_runtime/gpu/gpu_device.cc:1639] Created device /job:localhost/replica:0/task:0/device:GPU:2 with 21669 MB memory:  -> device: 2, name: NVIDIA GeForce RTX 3090, pci bus id: 0000:68:00.0, compute capability: 8.6\n"
     ]
    }
   ],
   "source": [
    "model = MLP(cfg)\n",
    "model.load_model_state(\"/usr/project/chembattery/chembattery_refac/runs/reproduced_results_1/model/models/model_0\")"
   ]
  },
  {
   "cell_type": "code",
   "execution_count": 119,
   "id": "fab93cda",
   "metadata": {},
   "outputs": [
    {
     "name": "stderr",
     "output_type": "stream",
     "text": [
      "/usr/local/lib/python3.8/dist-packages/sklearn/base.py:465: UserWarning: X does not have valid feature names, but RobustScaler was fitted with feature names\n",
      "  warnings.warn(\n"
     ]
    },
    {
     "name": "stdout",
     "output_type": "stream",
     "text": [
      "   74/67568 [..............................] - ETA: 2:21"
     ]
    },
    {
     "name": "stderr",
     "output_type": "stream",
     "text": [
      "2025-07-02 20:17:46.738878: I tensorflow/compiler/xla/stream_executor/cuda/cuda_blas.cc:606] TensorFloat-32 will be used for the matrix multiplication. This will only be logged once.\n"
     ]
    },
    {
     "name": "stdout",
     "output_type": "stream",
     "text": [
      "67568/67568 [==============================] - 142s 2ms/step\n"
     ]
    }
   ],
   "source": [
    "X_train, X_test, y_train, y_test, scaler = dataset.get_scaled_split(test_split, split_on)\n",
    "pred_y = model.predict(X_test)"
   ]
  },
  {
   "cell_type": "code",
   "execution_count": 120,
   "id": "0b51b9a1",
   "metadata": {},
   "outputs": [
    {
     "data": {
      "text/plain": [
       "21902.317066767453"
      ]
     },
     "execution_count": 120,
     "metadata": {},
     "output_type": "execute_result"
    }
   ],
   "source": [
    "np.sum((pred_y-y_test)**2)**0.5"
   ]
  },
  {
   "cell_type": "code",
   "execution_count": 13,
   "id": "9542ab69",
   "metadata": {},
   "outputs": [],
   "source": [
    "from eval_utils import compute_metrics, print_metrics"
   ]
  },
  {
   "cell_type": "code",
   "execution_count": 10,
   "id": "a276b88f",
   "metadata": {},
   "outputs": [
    {
     "name": "stderr",
     "output_type": "stream",
     "text": [
      "/usr/local/lib/python3.8/dist-packages/sklearn/base.py:465: UserWarning: X does not have valid feature names, but RobustScaler was fitted with feature names\n",
      "  warnings.warn(\n"
     ]
    },
    {
     "name": "stdout",
     "output_type": "stream",
     "text": [
      "67568/67568 [==============================] - 133s 2ms/step\n",
      "0\n",
      "\n",
      "    1/67568 [..............................] - ETA: 1:11:41"
     ]
    },
    {
     "name": "stderr",
     "output_type": "stream",
     "text": [
      "/usr/local/lib/python3.8/dist-packages/sklearn/base.py:465: UserWarning: X does not have valid feature names, but RobustScaler was fitted with feature names\n",
      "  warnings.warn(\n"
     ]
    },
    {
     "name": "stdout",
     "output_type": "stream",
     "text": [
      "67568/67568 [==============================] - 132s 2ms/step\n",
      "1\n",
      "\n",
      "    1/67568 [..............................] - ETA: 1:13:14"
     ]
    },
    {
     "name": "stderr",
     "output_type": "stream",
     "text": [
      "/usr/local/lib/python3.8/dist-packages/sklearn/base.py:465: UserWarning: X does not have valid feature names, but RobustScaler was fitted with feature names\n",
      "  warnings.warn(\n"
     ]
    },
    {
     "name": "stdout",
     "output_type": "stream",
     "text": [
      "67568/67568 [==============================] - 133s 2ms/step\n",
      "2\n",
      "\n"
     ]
    },
    {
     "name": "stderr",
     "output_type": "stream",
     "text": [
      "/usr/local/lib/python3.8/dist-packages/sklearn/base.py:465: UserWarning: X does not have valid feature names, but RobustScaler was fitted with feature names\n",
      "  warnings.warn(\n"
     ]
    },
    {
     "name": "stdout",
     "output_type": "stream",
     "text": [
      "67568/67568 [==============================] - 133s 2ms/step\n",
      "3\n",
      "\n",
      "    1/67568 [..............................] - ETA: 1:10:33"
     ]
    },
    {
     "name": "stderr",
     "output_type": "stream",
     "text": [
      "/usr/local/lib/python3.8/dist-packages/sklearn/base.py:465: UserWarning: X does not have valid feature names, but RobustScaler was fitted with feature names\n",
      "  warnings.warn(\n"
     ]
    },
    {
     "name": "stdout",
     "output_type": "stream",
     "text": [
      "67568/67568 [==============================] - 133s 2ms/step\n",
      "4\n",
      "\n"
     ]
    }
   ],
   "source": [
    "preds = []\n",
    "for i in range(5):\n",
    "    model = MLP(cfg)\n",
    "    model.load_model_state(f\"/usr/project/chembattery/chembattery_refac/runs/reproduced_results_1/model/models/model_{i}\")\n",
    "    X_train, X_test, y_train, y_test, scaler = dataset.get_scaled_split(test_split, split_on)\n",
    "    y_pred = model.predict(X_test)\n",
    "    metrics = compute_metrics(y_pred, y_test)\n",
    "    print(i)\n",
    "    print_metrics(metrics)\n",
    "    print()\n",
    "    preds.append(y_pred)"
   ]
  },
  {
   "cell_type": "code",
   "execution_count": 17,
   "id": "fa09e8ac",
   "metadata": {},
   "outputs": [
    {
     "name": "stdout",
     "output_type": "stream",
     "text": [
      "4\n",
      "\n",
      "        \"MAE\": 0.026895336614543245,\n",
      "        \"Mean Error\": -0.011644831910466467,\n",
      "        \"RMSE\": 0.03878666672794386,\n",
      "        \"% RMSE\": 51.01834028644382,\n",
      "        \"RMSPE\": 33716.723830208764,\n",
      "        \"R²\": 0.6824957795726763\n",
      "    \n",
      "\n"
     ]
    }
   ],
   "source": [
    "ensemble_preds = np.array(preds).reshape(5, -1)\n",
    "ensemble_preds = np.mean(ensemble_preds, axis=0)\n",
    "metrics = compute_metrics(ensemble_preds, y_test)\n",
    "print(i)\n",
    "print(print_metrics(metrics))\n",
    "print()"
   ]
  },
  {
   "cell_type": "code",
   "execution_count": 15,
   "id": "bf12ca20",
   "metadata": {},
   "outputs": [
    {
     "name": "stdout",
     "output_type": "stream",
     "text": [
      "0\n",
      "\n",
      "        \"MAE\": 0.031669625880544824,\n",
      "        \"Mean Error\": -0.013317887149084884,\n",
      "        \"RMSE\": 0.04535128942980448,\n",
      "        \"% RMSE\": 59.65316722851638,\n",
      "        \"RMSPE\": 43967.90471602293,\n",
      "        \"R²\": 0.6428594708234547\n",
      "    \n",
      "\n",
      "1\n",
      "\n",
      "        \"MAE\": 0.025596248099476877,\n",
      "        \"Mean Error\": 0.0027670405088001185,\n",
      "        \"RMSE\": 0.037799170309935466,\n",
      "        \"% RMSE\": 49.71942928078887,\n",
      "        \"RMSPE\": 36666.51100762615,\n",
      "        \"R²\": 0.7304664451409433\n",
      "    \n",
      "\n",
      "2\n",
      "\n",
      "        \"MAE\": 0.04462454734717367,\n",
      "        \"Mean Error\": -0.02826921760082949,\n",
      "        \"RMSE\": 0.07923569669269127,\n",
      "        \"% RMSE\": 104.22328283726358,\n",
      "        \"RMSPE\": 44142.33064643632,\n",
      "        \"R²\": 0.31143946044485815\n",
      "    \n",
      "\n",
      "3\n",
      "\n",
      "        \"MAE\": 0.02402684430083716,\n",
      "        \"Mean Error\": 0.010083933262275123,\n",
      "        \"RMSE\": 0.03474182419074962,\n",
      "        \"% RMSE\": 45.69792555694128,\n",
      "        \"RMSPE\": 33584.99183263324,\n",
      "        \"R²\": 0.7134036763069967\n",
      "    \n",
      "\n",
      "4\n",
      "\n",
      "        \"MAE\": 0.04245264589170171,\n",
      "        \"Mean Error\": -0.029488028925903787,\n",
      "        \"RMSE\": 0.07460972674436435,\n",
      "        \"% RMSE\": 98.13847769961114,\n",
      "        \"RMSPE\": 32830.52697024543,\n",
      "        \"R²\": 0.2092657585367057\n",
      "    \n",
      "\n"
     ]
    }
   ],
   "source": [
    "for i,y_pred in enumerate(preds):\n",
    "    metrics = compute_metrics(y_pred, y_test)\n",
    "    print(i)\n",
    "    print(print_metrics(metrics))\n",
    "    print()"
   ]
  },
  {
   "cell_type": "code",
   "execution_count": null,
   "id": "cb90d5e6",
   "metadata": {},
   "outputs": [],
   "source": [
    "np.mean(np.array([\n",
    "    [1, 2, 3],\n",
    "    [2, 3, 4]\n",
    "]), axis=0)"
   ]
  },
  {
   "cell_type": "code",
   "execution_count": null,
   "id": "00da94ce",
   "metadata": {},
   "outputs": [],
   "source": []
  },
  {
   "cell_type": "code",
   "execution_count": 123,
   "id": "b00fa3b4",
   "metadata": {},
   "outputs": [
    {
     "data": {
      "text/plain": [
       "61.69414919269864"
      ]
     },
     "execution_count": 123,
     "metadata": {},
     "output_type": "execute_result"
    }
   ],
   "source": [
    "from sklearn.metrics import mean_squared_error\n",
    "\n",
    "mean_squared_error(pred_y, y_test, squared=False)"
   ]
  },
  {
   "cell_type": "code",
   "execution_count": 125,
   "id": "bf15cc0f",
   "metadata": {},
   "outputs": [
    {
     "name": "stdout",
     "output_type": "stream",
     "text": [
      "61.69414919269863\n"
     ]
    }
   ],
   "source": [
    "print(np.sum((pred_y-y_test)**2/len(pred_y))**0.5)"
   ]
  },
  {
   "cell_type": "code",
   "execution_count": 128,
   "id": "38030382",
   "metadata": {},
   "outputs": [
    {
     "name": "stdout",
     "output_type": "stream",
     "text": [
      "0.9958682421754749\n"
     ]
    }
   ],
   "source": [
    "s = RobustScaler()\n",
    "a = np.random.rand(100).reshape(1, -1)\n",
    "s.fit(a)\n",
    "b = s.transform(a)\n",
    "c = s.transform(b)\n",
    "print(np.max(np.abs(a-b)))"
   ]
  },
  {
   "cell_type": "code",
   "execution_count": null,
   "id": "b01c265e",
   "metadata": {},
   "outputs": [],
   "source": [
    "print(np.max(np.abs(c-b)))"
   ]
  },
  {
   "cell_type": "code",
   "execution_count": 129,
   "id": "263198f1",
   "metadata": {},
   "outputs": [
    {
     "data": {
      "text/plain": [
       "[1, 1, 1, 1, 1, 1, 1, 1, 1, 1]"
      ]
     },
     "execution_count": 129,
     "metadata": {},
     "output_type": "execute_result"
    }
   ],
   "source": [
    "[1]*10"
   ]
  },
  {
   "cell_type": "code",
   "execution_count": null,
   "id": "26494c19",
   "metadata": {},
   "outputs": [],
   "source": []
  }
 ],
 "metadata": {
  "kernelspec": {
   "display_name": "Python 3",
   "language": "python",
   "name": "python3"
  },
  "language_info": {
   "codemirror_mode": {
    "name": "ipython",
    "version": 3
   },
   "file_extension": ".py",
   "mimetype": "text/x-python",
   "name": "python",
   "nbconvert_exporter": "python",
   "pygments_lexer": "ipython3",
   "version": "3.8.10"
  }
 },
 "nbformat": 4,
 "nbformat_minor": 5
}
